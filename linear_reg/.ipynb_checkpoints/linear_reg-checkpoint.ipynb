{
 "cells": [
  {
   "cell_type": "code",
   "execution_count": 17,
   "metadata": {
    "scrolled": true
   },
   "outputs": [
    {
     "name": "stdout",
     "output_type": "stream",
     "text": [
      "(300,)\n",
      "(200,)\n",
      "预测值与真实值的标准差：2.2\n"
     ]
    },
    {
     "data": {
      "image/png": "[encoded data removed]",
      "text/plain": [
       "<Figure size 432x288 with 1 Axes>"
      ]
     },
     "metadata": {
      "needs_background": "light"
     },
     "output_type": "display_data"
    }
   ],
   "source": [
    "# python: 3.5.2\n",
    "# encoding: utf-8\n",
    "# numpy: 1.14.1\n",
    "\n",
    "import numpy as np\n",
    "import matplotlib.pyplot as plt\n",
    "\n",
    "\n",
    "def load_data(filename):\n",
    "    \"\"\"载入数据。\"\"\"\n",
    "    xys = []\n",
    "    with open(filename, 'r') as f:\n",
    "        for line in f:\n",
    "            # line.strip() 方法用于去除字符串首尾的字符，默认空格或换行\n",
    "            # line.split() 方法用于指定字符对字符串进行切片，默认空格或者tab\n",
    "            # map() 会根据提供的函数对指定序列做映射。\n",
    "            xys.append(map(float, line.strip().split()))\n",
    "        xs, ys = zip(*xys)\n",
    "        return np.asarray(xs), np.asarray(ys)\n",
    "\n",
    "\n",
    "def evaluate(ys, ys_pred):\n",
    "    \"\"\"评估模型。\"\"\"\n",
    "    std = np.sqrt(np.mean(np.abs(ys - ys_pred) ** 2))\n",
    "    return std\n",
    "\n",
    "\n",
    "def linear_reg(x_train, y_train):\n",
    "    \"\"\"训练模型，并返回从x到y的映射。\"\"\"\n",
    "\n",
    "    # 使用线性回归训练模型，根据训练集计算最优化参数\n",
    "    x0 = np.expand_dims(np.ones_like(x_train), axis=1)\n",
    "    x_ = np.expand_dims(x_train, axis=1)\n",
    "    X = np.concatenate([x0, x_], axis=1)\n",
    "    W = np.dot(np.linalg.inv(np.dot(X.T, X)), np.dot(X.T, y_train))\n",
    "   \n",
    "\n",
    "    # 返回从x到y的映射函数y=f(x)\n",
    "    # 注意：函数f(x)的变量只有x，参数w应作为内部变量\n",
    "    def f(x):\n",
    "        x0 = np.expand_dims(np.ones_like(x), axis=1)\n",
    "        x_ = np.expand_dims(x, axis=1)\n",
    "        X = np.concatenate([x0, x_], axis=1)\n",
    "        y = np.dot(X, W)\n",
    "        return y\n",
    "\n",
    "    return f\n",
    "\n",
    "\n",
    "# 程序主入口（建议不要改动以下函数的接口）\n",
    "if __name__ == '__main__':\n",
    "    train_file = 'train.txt'\n",
    "    test_file = 'test.txt'\n",
    "\n",
    "    # 载入数据\n",
    "    x_train, y_train = load_data(train_file)\n",
    "    x_test, y_test = load_data(test_file)\n",
    "    print(x_train.shape)\n",
    "    print(x_test.shape)\n",
    "\n",
    "    # 使用线性回归训练模型，返回一个函数f()使得y = f(x)\n",
    "    f = linear_reg(x_train, y_train)\n",
    "\n",
    "    # 计算预测的输出值\n",
    "    y_test_pred = f(x_test)\n",
    "\n",
    "    # 使用测试集评估模型\n",
    "    std = evaluate(y_test, y_test_pred)\n",
    "    print('预测值与真实值的标准差：{:.1f}'.format(std))\n",
    "\n",
    "    # 显示结果\n",
    "    plt.plot(x_train, y_train, 'ro', markersize=3)\n",
    "    plt.plot(x_test, y_test, 'k')\n",
    "    plt.plot(x_test, y_test_pred)\n",
    "    plt.xlabel('x')\n",
    "    plt.ylabel('y')\n",
    "    plt.title('Linear Regression')\n",
    "    plt.legend(['train', 'test', 'pred'])\n",
    "    plt.show()"
   ]
  },
  {
   "cell_type": "code",
   "execution_count": null,
   "metadata": {},
   "outputs": [],
   "source": []
  }
 ],
 "metadata": {
  "kernelspec": {
   "display_name": "Python 3",
   "language": "python",
   "name": "python3"
  },
  "language_info": {
   "codemirror_mode": {
    "name": "ipython",
    "version": 3
   },
   "file_extension": ".py",
   "mimetype": "text/x-python",
   "name": "python",
   "nbconvert_exporter": "python",
   "pygments_lexer": "ipython3",
   "version": "3.7.3"
  }
 },
 "nbformat": 4,
 "nbformat_minor": 2
}
