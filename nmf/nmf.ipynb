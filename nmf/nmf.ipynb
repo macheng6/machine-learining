{
 "cells": [
  {
   "cell_type": "code",
   "execution_count": 1,
   "metadata": {},
   "outputs": [
    {
     "name": "stdout",
     "output_type": "stream",
     "text": [
      "w_:  [[6.53333951e-01 4.29614040e-01]\n",
      " [6.00204367e-01 3.44959473e-01]\n",
      " [0.00000000e+00 5.30135279e-01]\n",
      " [0.00000000e+00 8.19858259e-01]\n",
      " [5.43703464e-39 5.42898252e-01]]\n",
      "h_:  [[ 8.8649438   0.31232534  0.         11.1483595   3.42198359]\n",
      " [ 4.91557058  4.85619673  8.83070165  0.          3.85458119]]\n",
      "v_:  [[7.90356689e+00 2.29034304e+00 3.79379341e+00 7.28360175e+00\n",
      "  3.89168025e+00]\n",
      " [7.01645063e+00 1.86265010e+00 3.04623419e+00 6.69129406e+00\n",
      "  3.38356379e+00]\n",
      " [2.60591738e+00 2.57444121e+00 4.68146648e+00 0.00000000e+00\n",
      "  2.04344947e+00]\n",
      " [4.03007114e+00 3.98139300e+00 7.23992369e+00 0.00000000e+00\n",
      "  3.16021023e+00]\n",
      " [2.66865468e+00 2.63642072e+00 4.79417249e+00 6.06140167e-38\n",
      "  2.09264539e+00]]\n",
      "V:  [[7 4 2 7 7]\n",
      " [8 0 5 7 0]\n",
      " [6 2 4 3 0]\n",
      " [3 4 7 4 5]\n",
      " [1 3 6 0 1]]\n",
      "error:  88.05511200051856\n"
     ]
    }
   ],
   "source": [
    "import numpy as np\n",
    "\n",
    "\n",
    "def nmf(V, r, maxiter, error_rate):\n",
    "    \n",
    "    m, n = np.shape(V)  # 获得矩阵的行和列\n",
    "    \n",
    "    W = np.random.randint(0, 9, (m, r))\n",
    "    H = np.random.randint(0, 9, (r, n))\n",
    "\n",
    "    error = 0.0\n",
    "    for p in range(maxiter):\n",
    "        \n",
    "        tmp1 = np.dot(V, H.T)\n",
    "        tmp2 = np.dot(W, np.dot(H, H.T))\n",
    "        W = W * tmp1 / tmp2\n",
    "        \n",
    "        tmp1 = np.dot(W.T, V)\n",
    "        tmp2 = np.dot(np.dot(W.T,W), H)\n",
    "        H = H * tmp1 / tmp2\n",
    "        \n",
    "        \n",
    "        V_pre = np.dot(W, H)\n",
    "        E = (V - V_pre)*(V - V_pre) # 矩阵对应元素乘\n",
    "        error = 0.0\n",
    "        \n",
    "        for i in range(m):\n",
    "            for j in range(n):\n",
    "                error += E[i,j]\n",
    "        \n",
    "        if error < error_rate:\n",
    "            break\n",
    "    \n",
    "    return W, H, error\n",
    "        \n",
    "                \n",
    "                \n",
    "        \n",
    "    \n",
    "    \n",
    "\n",
    "# 生成原始矩阵\n",
    "V = np.random.randint(0, 9, (5, 5))\n",
    "W_, H_, error = nmf(V, 2, 100, 0.001)\n",
    "\n",
    "print(\"w_: \", W_)\n",
    "print(\"h_: \", H_)\n",
    "print(\"v_: \", np.dot(W_, H_))\n",
    "print(\"V: \", V)\n",
    "print(\"error: \", error)\n",
    "\n",
    "\n",
    "    "
   ]
  },
  {
   "cell_type": "code",
   "execution_count": null,
   "metadata": {},
   "outputs": [],
   "source": []
  }
 ],
 "metadata": {
  "kernelspec": {
   "display_name": "Python 3",
   "language": "python",
   "name": "python3"
  },
  "language_info": {
   "codemirror_mode": {
    "name": "ipython",
    "version": 3
   },
   "file_extension": ".py",
   "mimetype": "text/x-python",
   "name": "python",
   "nbconvert_exporter": "python",
   "pygments_lexer": "ipython3",
   "version": "3.7.3"
  }
 },
 "nbformat": 4,
 "nbformat_minor": 2
}
