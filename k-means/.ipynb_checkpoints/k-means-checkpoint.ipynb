{
 "cells": [
  {
   "cell_type": "code",
   "execution_count": 2,
   "metadata": {},
   "outputs": [],
   "source": [
    "import numpy as np\n",
    "import random\n",
    "import re\n",
    "import matplotlib.pyplot as plt"
   ]
  },
  {
   "cell_type": "code",
   "execution_count": 3,
   "metadata": {},
   "outputs": [],
   "source": [
    "def show_fig():\n",
    "    dataSet = loadDataSet()\n",
    "    fig = plt.figure()\n",
    "    ax = fig.add_subplot(111)\n",
    "    ax.scatter(dataSet[:, 0], dataSet[:, 1])\n",
    "    plt.show()"
   ]
  },
  {
   "cell_type": "code",
   "execution_count": 4,
   "metadata": {},
   "outputs": [],
   "source": [
    "# 计算两个向量之间的欧式距离\n",
    "def calcuDistance(vec1, vec2):\n",
    "    return np.sqrt(np.sum(np.square(vec1 - vec2)))"
   ]
  },
  {
   "cell_type": "code",
   "execution_count": 5,
   "metadata": {},
   "outputs": [],
   "source": [
    "def loadDataSet():\n",
    "    dataSet = np.loadtxt(\"dataSet.csv\")\n",
    "    return dataSet"
   ]
  },
  {
   "cell_type": "code",
   "execution_count": 6,
   "metadata": {},
   "outputs": [],
   "source": [
    "def initCentroids(dataSet, k):\n",
    "    dataSet = list(dataSet)\n",
    "    #sample函数从dataSet中随机选择k个不重复的元素\n",
    "    return random.sample(dataSet, k)   "
   ]
  },
  {
   "cell_type": "code",
   "execution_count": 7,
   "metadata": {},
   "outputs": [],
   "source": [
    "def minDistance(dataSet, centroidList):\n",
    "    clusterDict = dict()\n",
    "    k = len(centroidList)\n",
    "    for item in dataSet:\n",
    "        flag = -1\n",
    "        minDis = float(\"inf\")  # 初始化为最大值\n",
    "        # 这个for循环结束时，flag就是item的类别\n",
    "        for i in range(k):\n",
    "            distance = calcuDistance(item, centroidList[i])\n",
    "            if distance < minDis:\n",
    "                minDis = distance\n",
    "                flag = i\n",
    "        # 如果是第一次迭代，则可能这个类别里都是空的\n",
    "        if flag not in clusterDict.keys():\n",
    "            clusterDict[flag] = []\n",
    "        clusterDict[flag].append(item)\n",
    "    return clusterDict\n",
    "        "
   ]
  },
  {
   "cell_type": "code",
   "execution_count": 8,
   "metadata": {},
   "outputs": [],
   "source": [
    "def getCentroids(clusterDict):\n",
    "    # 重新计算k个质心\n",
    "    centroidList = []\n",
    "    for key in clusterDict.keys():\n",
    "        centroid = np.mean(clusterDict[key], axis = 0)\n",
    "        centroidList.append(centroid)\n",
    "    return centroidList"
   ]
  },
  {
   "cell_type": "code",
   "execution_count": 9,
   "metadata": {},
   "outputs": [],
   "source": [
    "# 计算各个族与其质心的均方误差\n",
    "def getVar(centroidList, clusterDict):\n",
    "    sum = 0.0\n",
    "    for key in clusterDict.keys():\n",
    "        distance = 0.0\n",
    "        for item in clusterDict[key]:\n",
    "            distance += calcuDistance(centroidList[key], item)\n",
    "        sum += distance\n",
    "    return sum"
   ]
  },
  {
   "cell_type": "code",
   "execution_count": 10,
   "metadata": {},
   "outputs": [],
   "source": [
    "def showCluster(centroidList, clusterDict):\n",
    "    colorMark = ['or', 'ob', 'og', 'ok', 'oy', 'ow'] # o表示圆形，另一个字母表示颜色\n",
    "    centroidMark = ['xr', 'xb', 'xg', 'xk', 'xy', 'xw']\n",
    "    \n",
    "    for key in clusterDict.keys():\n",
    "        plt.plot(centroidList[key][0], centroidList[key][1], centroidMark[key], markersize=12) #质心点\n",
    "        for item in clusterDict[key]:\n",
    "            plt.plot(item[0], item[1], colorMark[key])\n",
    "    plt.show()"
   ]
  },
  {
   "cell_type": "code",
   "execution_count": 11,
   "metadata": {},
   "outputs": [],
   "source": [
    "def k_means():\n",
    "    dataSet = loadDataSet()\n",
    "    centroidList = initCentroids(dataSet, 4)\n",
    "    clusterDict = minDistance(dataSet, centroidList)\n",
    "    \n",
    "    newVar = getVar(centroidList, clusterDict)\n",
    "    oldVar = 1 \n",
    "    \n",
    "    # 当距离小于一定值的时候停止迭代\n",
    "    while abs(newVar - oldVar) >= 0.00001:\n",
    "        centroidList = getCentroids(clusterDict)\n",
    "        clusterDict = minDistance(dataSet, centroidList)\n",
    "        oldVar = newVar\n",
    "        newVar = getVar(centroidList, clusterDict)\n",
    "        #times += 1\n",
    "        showCluster(centroidList, clusterDict)\n",
    "    "
   ]
  },
  {
   "cell_type": "code",
   "execution_count": 12,
   "metadata": {},
   "outputs": [
    {
     "data": {
      "image/png": "[encoded data removed]",
      "text/plain": [
       "<Figure size 432x288 with 1 Axes>"
      ]
     },
     "metadata": {
      "needs_background": "light"
     },
     "output_type": "display_data"
    },
    {
     "data": {
      "image/png": "[encoded data removed]",
      "text/plain": [
       "<Figure size 432x288 with 1 Axes>"
      ]
     },
     "metadata": {
      "needs_background": "light"
     },
     "output_type": "display_data"
    },
    {
     "data": {
      "image/png": "[encoded data removed]",
      "text/plain": [
       "<Figure size 432x288 with 1 Axes>"
      ]
     },
     "metadata": {
      "needs_background": "light"
     },
     "output_type": "display_data"
    },
    {
     "data": {
      "image/png": "[encoded data removed]",
      "text/plain": [
       "<Figure size 432x288 with 1 Axes>"
      ]
     },
     "metadata": {
      "needs_background": "light"
     },
     "output_type": "display_data"
    }
   ],
   "source": [
    "if __name__ == '__main__':\n",
    "    k_means()"
   ]
  },
  {
   "cell_type": "code",
   "execution_count": null,
   "metadata": {},
   "outputs": [],
   "source": []
  }
 ],
 "metadata": {
  "kernelspec": {
   "display_name": "Python 3",
   "language": "python",
   "name": "python3"
  },
  "language_info": {
   "codemirror_mode": {
    "name": "ipython",
    "version": 3
   },
   "file_extension": ".py",
   "mimetype": "text/x-python",
   "name": "python",
   "nbconvert_exporter": "python",
   "pygments_lexer": "ipython3",
   "version": "3.7.3"
  }
 },
 "nbformat": 4,
 "nbformat_minor": 2
}
